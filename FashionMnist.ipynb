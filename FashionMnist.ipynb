{
  "nbformat": 4,
  "nbformat_minor": 0,
  "metadata": {
    "colab": {
      "name": "FashionMnist.ipynb",
      "provenance": []
    },
    "kernelspec": {
      "name": "python3",
      "display_name": "Python 3"
    },
    "accelerator": "TPU"
  },
  "cells": [
    {
      "cell_type": "code",
      "metadata": {
        "id": "LcyKOqTCeFey",
        "colab_type": "code",
        "outputId": "a613ff85-8c61-4cb3-9bb5-6f24018a34ef",
        "colab": {
          "base_uri": "https://localhost:8080/",
          "height": 1000
        }
      },
      "source": [
        "!pip install --upgrade wandb\n",
        "# ! wandb login \n",
        "\n",
        "\n",
        "# Import everything and initialize time formatting\n",
        "import numpy as np\n",
        "from keras.datasets import fashion_mnist\n",
        "from keras.models import Sequential\n",
        "from keras.layers import Dense, Flatten, Dropout, MaxPooling2D, Conv2D\n",
        "from keras.utils import np_utils\n",
        "# import wandb\n",
        "# from wandb.keras import WandbCallback\n",
        "import os\n",
        "from datetime import datetime\n",
        "import pytz\n",
        "import matplotlib.pyplot as plt\n",
        "from sklearn.metrics import confusion_matrix\n",
        "from mlxtend.plotting import plot_confusion_matrix\n",
        "\n",
        "pacific_timezone = pytz.timezone(\"US/Pacific\")\n",
        "utc_timezone = pytz.timezone(\"UTC\")\n",
        "  \n"
      ],
      "execution_count": 0,
      "outputs": [
        {
          "output_type": "stream",
          "text": [
            "Collecting wandb\n",
            "\u001b[?25l  Downloading https://files.pythonhosted.org/packages/a2/6f/f8485396e1e17c6b4257eecbcae1869d4d27ec960eb2bc06ea3fb829bc9a/wandb-0.8.30-py2.py3-none-any.whl (1.4MB)\n",
            "\r\u001b[K     |▎                               | 10kB 16.5MB/s eta 0:00:01\r\u001b[K     |▌                               | 20kB 2.2MB/s eta 0:00:01\r\u001b[K     |▊                               | 30kB 3.3MB/s eta 0:00:01\r\u001b[K     |█                               | 40kB 2.1MB/s eta 0:00:01\r\u001b[K     |█▏                              | 51kB 2.4MB/s eta 0:00:01\r\u001b[K     |█▍                              | 61kB 2.9MB/s eta 0:00:01\r\u001b[K     |█▋                              | 71kB 3.4MB/s eta 0:00:01\r\u001b[K     |██                              | 81kB 3.8MB/s eta 0:00:01\r\u001b[K     |██▏                             | 92kB 4.3MB/s eta 0:00:01\r\u001b[K     |██▍                             | 102kB 3.5MB/s eta 0:00:01\r\u001b[K     |██▋                             | 112kB 3.5MB/s eta 0:00:01\r\u001b[K     |██▉                             | 122kB 3.5MB/s eta 0:00:01\r\u001b[K     |███                             | 133kB 3.5MB/s eta 0:00:01\r\u001b[K     |███▎                            | 143kB 3.5MB/s eta 0:00:01\r\u001b[K     |███▋                            | 153kB 3.5MB/s eta 0:00:01\r\u001b[K     |███▉                            | 163kB 3.5MB/s eta 0:00:01\r\u001b[K     |████                            | 174kB 3.5MB/s eta 0:00:01\r\u001b[K     |████▎                           | 184kB 3.5MB/s eta 0:00:01\r\u001b[K     |████▌                           | 194kB 3.5MB/s eta 0:00:01\r\u001b[K     |████▊                           | 204kB 3.5MB/s eta 0:00:01\r\u001b[K     |█████                           | 215kB 3.5MB/s eta 0:00:01\r\u001b[K     |█████▏                          | 225kB 3.5MB/s eta 0:00:01\r\u001b[K     |█████▌                          | 235kB 3.5MB/s eta 0:00:01\r\u001b[K     |█████▊                          | 245kB 3.5MB/s eta 0:00:01\r\u001b[K     |██████                          | 256kB 3.5MB/s eta 0:00:01\r\u001b[K     |██████▏                         | 266kB 3.5MB/s eta 0:00:01\r\u001b[K     |██████▍                         | 276kB 3.5MB/s eta 0:00:01\r\u001b[K     |██████▋                         | 286kB 3.5MB/s eta 0:00:01\r\u001b[K     |██████▉                         | 296kB 3.5MB/s eta 0:00:01\r\u001b[K     |███████▏                        | 307kB 3.5MB/s eta 0:00:01\r\u001b[K     |███████▍                        | 317kB 3.5MB/s eta 0:00:01\r\u001b[K     |███████▋                        | 327kB 3.5MB/s eta 0:00:01\r\u001b[K     |███████▉                        | 337kB 3.5MB/s eta 0:00:01\r\u001b[K     |████████                        | 348kB 3.5MB/s eta 0:00:01\r\u001b[K     |████████▎                       | 358kB 3.5MB/s eta 0:00:01\r\u001b[K     |████████▌                       | 368kB 3.5MB/s eta 0:00:01\r\u001b[K     |████████▊                       | 378kB 3.5MB/s eta 0:00:01\r\u001b[K     |█████████                       | 389kB 3.5MB/s eta 0:00:01\r\u001b[K     |█████████▎                      | 399kB 3.5MB/s eta 0:00:01\r\u001b[K     |█████████▌                      | 409kB 3.5MB/s eta 0:00:01\r\u001b[K     |█████████▊                      | 419kB 3.5MB/s eta 0:00:01\r\u001b[K     |██████████                      | 430kB 3.5MB/s eta 0:00:01\r\u001b[K     |██████████▏                     | 440kB 3.5MB/s eta 0:00:01\r\u001b[K     |██████████▍                     | 450kB 3.5MB/s eta 0:00:01\r\u001b[K     |██████████▊                     | 460kB 3.5MB/s eta 0:00:01\r\u001b[K     |███████████                     | 471kB 3.5MB/s eta 0:00:01\r\u001b[K     |███████████▏                    | 481kB 3.5MB/s eta 0:00:01\r\u001b[K     |███████████▍                    | 491kB 3.5MB/s eta 0:00:01\r\u001b[K     |███████████▋                    | 501kB 3.5MB/s eta 0:00:01\r\u001b[K     |███████████▉                    | 512kB 3.5MB/s eta 0:00:01\r\u001b[K     |████████████                    | 522kB 3.5MB/s eta 0:00:01\r\u001b[K     |████████████▍                   | 532kB 3.5MB/s eta 0:00:01\r\u001b[K     |████████████▋                   | 542kB 3.5MB/s eta 0:00:01\r\u001b[K     |████████████▉                   | 552kB 3.5MB/s eta 0:00:01\r\u001b[K     |█████████████                   | 563kB 3.5MB/s eta 0:00:01\r\u001b[K     |█████████████▎                  | 573kB 3.5MB/s eta 0:00:01\r\u001b[K     |█████████████▌                  | 583kB 3.5MB/s eta 0:00:01\r\u001b[K     |█████████████▊                  | 593kB 3.5MB/s eta 0:00:01\r\u001b[K     |██████████████                  | 604kB 3.5MB/s eta 0:00:01\r\u001b[K     |██████████████▎                 | 614kB 3.5MB/s eta 0:00:01\r\u001b[K     |██████████████▌                 | 624kB 3.5MB/s eta 0:00:01\r\u001b[K     |██████████████▊                 | 634kB 3.5MB/s eta 0:00:01\r\u001b[K     |███████████████                 | 645kB 3.5MB/s eta 0:00:01\r\u001b[K     |███████████████▏                | 655kB 3.5MB/s eta 0:00:01\r\u001b[K     |███████████████▍                | 665kB 3.5MB/s eta 0:00:01\r\u001b[K     |███████████████▋                | 675kB 3.5MB/s eta 0:00:01\r\u001b[K     |████████████████                | 686kB 3.5MB/s eta 0:00:01\r\u001b[K     |████████████████▏               | 696kB 3.5MB/s eta 0:00:01\r\u001b[K     |████████████████▍               | 706kB 3.5MB/s eta 0:00:01\r\u001b[K     |████████████████▋               | 716kB 3.5MB/s eta 0:00:01\r\u001b[K     |████████████████▉               | 727kB 3.5MB/s eta 0:00:01\r\u001b[K     |█████████████████               | 737kB 3.5MB/s eta 0:00:01\r\u001b[K     |█████████████████▎              | 747kB 3.5MB/s eta 0:00:01\r\u001b[K     |█████████████████▌              | 757kB 3.5MB/s eta 0:00:01\r\u001b[K     |█████████████████▉              | 768kB 3.5MB/s eta 0:00:01\r\u001b[K     |██████████████████              | 778kB 3.5MB/s eta 0:00:01\r\u001b[K     |██████████████████▎             | 788kB 3.5MB/s eta 0:00:01\r\u001b[K     |██████████████████▌             | 798kB 3.5MB/s eta 0:00:01\r\u001b[K     |██████████████████▊             | 808kB 3.5MB/s eta 0:00:01\r\u001b[K     |███████████████████             | 819kB 3.5MB/s eta 0:00:01\r\u001b[K     |███████████████████▏            | 829kB 3.5MB/s eta 0:00:01\r\u001b[K     |███████████████████▌            | 839kB 3.5MB/s eta 0:00:01\r\u001b[K     |███████████████████▊            | 849kB 3.5MB/s eta 0:00:01\r\u001b[K     |████████████████████            | 860kB 3.5MB/s eta 0:00:01\r\u001b[K     |████████████████████▏           | 870kB 3.5MB/s eta 0:00:01\r\u001b[K     |████████████████████▍           | 880kB 3.5MB/s eta 0:00:01\r\u001b[K     |████████████████████▋           | 890kB 3.5MB/s eta 0:00:01\r\u001b[K     |████████████████████▉           | 901kB 3.5MB/s eta 0:00:01\r\u001b[K     |█████████████████████▏          | 911kB 3.5MB/s eta 0:00:01\r\u001b[K     |█████████████████████▍          | 921kB 3.5MB/s eta 0:00:01\r\u001b[K     |█████████████████████▋          | 931kB 3.5MB/s eta 0:00:01\r\u001b[K     |█████████████████████▉          | 942kB 3.5MB/s eta 0:00:01\r\u001b[K     |██████████████████████          | 952kB 3.5MB/s eta 0:00:01\r\u001b[K     |██████████████████████▎         | 962kB 3.5MB/s eta 0:00:01\r\u001b[K     |██████████████████████▌         | 972kB 3.5MB/s eta 0:00:01\r\u001b[K     |██████████████████████▊         | 983kB 3.5MB/s eta 0:00:01\r\u001b[K     |███████████████████████         | 993kB 3.5MB/s eta 0:00:01\r\u001b[K     |███████████████████████▎        | 1.0MB 3.5MB/s eta 0:00:01\r\u001b[K     |███████████████████████▌        | 1.0MB 3.5MB/s eta 0:00:01\r\u001b[K     |███████████████████████▊        | 1.0MB 3.5MB/s eta 0:00:01\r\u001b[K     |████████████████████████        | 1.0MB 3.5MB/s eta 0:00:01\r\u001b[K     |████████████████████████▏       | 1.0MB 3.5MB/s eta 0:00:01\r\u001b[K     |████████████████████████▍       | 1.1MB 3.5MB/s eta 0:00:01\r\u001b[K     |████████████████████████▊       | 1.1MB 3.5MB/s eta 0:00:01\r\u001b[K     |█████████████████████████       | 1.1MB 3.5MB/s eta 0:00:01\r\u001b[K     |█████████████████████████▏      | 1.1MB 3.5MB/s eta 0:00:01\r\u001b[K     |█████████████████████████▍      | 1.1MB 3.5MB/s eta 0:00:01\r\u001b[K     |█████████████████████████▋      | 1.1MB 3.5MB/s eta 0:00:01\r\u001b[K     |█████████████████████████▉      | 1.1MB 3.5MB/s eta 0:00:01\r\u001b[K     |██████████████████████████      | 1.1MB 3.5MB/s eta 0:00:01\r\u001b[K     |██████████████████████████▎     | 1.1MB 3.5MB/s eta 0:00:01\r\u001b[K     |██████████████████████████▋     | 1.1MB 3.5MB/s eta 0:00:01\r\u001b[K     |██████████████████████████▉     | 1.2MB 3.5MB/s eta 0:00:01\r\u001b[K     |███████████████████████████     | 1.2MB 3.5MB/s eta 0:00:01\r\u001b[K     |███████████████████████████▎    | 1.2MB 3.5MB/s eta 0:00:01\r\u001b[K     |███████████████████████████▌    | 1.2MB 3.5MB/s eta 0:00:01\r\u001b[K     |███████████████████████████▊    | 1.2MB 3.5MB/s eta 0:00:01\r\u001b[K     |████████████████████████████    | 1.2MB 3.5MB/s eta 0:00:01\r\u001b[K     |████████████████████████████▎   | 1.2MB 3.5MB/s eta 0:00:01\r\u001b[K     |████████████████████████████▌   | 1.2MB 3.5MB/s eta 0:00:01\r\u001b[K     |████████████████████████████▊   | 1.2MB 3.5MB/s eta 0:00:01\r\u001b[K     |█████████████████████████████   | 1.2MB 3.5MB/s eta 0:00:01\r\u001b[K     |█████████████████████████████▏  | 1.3MB 3.5MB/s eta 0:00:01\r\u001b[K     |█████████████████████████████▍  | 1.3MB 3.5MB/s eta 0:00:01\r\u001b[K     |█████████████████████████████▋  | 1.3MB 3.5MB/s eta 0:00:01\r\u001b[K     |█████████████████████████████▉  | 1.3MB 3.5MB/s eta 0:00:01\r\u001b[K     |██████████████████████████████▏ | 1.3MB 3.5MB/s eta 0:00:01\r\u001b[K     |██████████████████████████████▍ | 1.3MB 3.5MB/s eta 0:00:01\r\u001b[K     |██████████████████████████████▋ | 1.3MB 3.5MB/s eta 0:00:01\r\u001b[K     |██████████████████████████████▉ | 1.3MB 3.5MB/s eta 0:00:01\r\u001b[K     |███████████████████████████████ | 1.3MB 3.5MB/s eta 0:00:01\r\u001b[K     |███████████████████████████████▎| 1.4MB 3.5MB/s eta 0:00:01\r\u001b[K     |███████████████████████████████▌| 1.4MB 3.5MB/s eta 0:00:01\r\u001b[K     |███████████████████████████████▉| 1.4MB 3.5MB/s eta 0:00:01\r\u001b[K     |████████████████████████████████| 1.4MB 3.5MB/s \n",
            "\u001b[?25hRequirement already satisfied, skipping upgrade: python-dateutil>=2.6.1 in /usr/local/lib/python3.6/dist-packages (from wandb) (2.8.1)\n",
            "Collecting configparser>=3.8.1\n",
            "  Downloading https://files.pythonhosted.org/packages/7a/2a/95ed0501cf5d8709490b1d3a3f9b5cf340da6c433f896bbe9ce08dbe6785/configparser-4.0.2-py2.py3-none-any.whl\n",
            "Requirement already satisfied, skipping upgrade: Click>=7.0 in /usr/local/lib/python3.6/dist-packages (from wandb) (7.1.1)\n",
            "Collecting sentry-sdk>=0.4.0\n",
            "\u001b[?25l  Downloading https://files.pythonhosted.org/packages/20/7e/19545324e83db4522b885808cd913c3b93ecc0c88b03e037b78c6a417fa8/sentry_sdk-0.14.3-py2.py3-none-any.whl (103kB)\n",
            "\u001b[K     |████████████████████████████████| 112kB 55.7MB/s \n",
            "\u001b[?25hCollecting watchdog>=0.8.3\n",
            "\u001b[?25l  Downloading https://files.pythonhosted.org/packages/73/c3/ed6d992006837e011baca89476a4bbffb0a91602432f73bd4473816c76e2/watchdog-0.10.2.tar.gz (95kB)\n",
            "\u001b[K     |████████████████████████████████| 102kB 11.0MB/s \n",
            "\u001b[?25hCollecting gql==0.2.0\n",
            "  Downloading https://files.pythonhosted.org/packages/c4/6f/cf9a3056045518f06184e804bae89390eb706168349daa9dff8ac609962a/gql-0.2.0.tar.gz\n",
            "Requirement already satisfied, skipping upgrade: psutil>=5.0.0 in /usr/local/lib/python3.6/dist-packages (from wandb) (5.4.8)\n",
            "Requirement already satisfied, skipping upgrade: PyYAML>=3.10 in /usr/local/lib/python3.6/dist-packages (from wandb) (3.13)\n",
            "Requirement already satisfied, skipping upgrade: requests>=2.0.0 in /usr/local/lib/python3.6/dist-packages (from wandb) (2.21.0)\n",
            "Requirement already satisfied, skipping upgrade: six>=1.10.0 in /usr/local/lib/python3.6/dist-packages (from wandb) (1.12.0)\n",
            "Collecting GitPython>=1.0.0\n",
            "\u001b[?25l  Downloading https://files.pythonhosted.org/packages/d3/2f/6a366d56c9b1355b0880be9ea66b166cb3536392638d8d91413ec66305ad/GitPython-3.1.0-py3-none-any.whl (450kB)\n",
            "\u001b[K     |████████████████████████████████| 460kB 49.2MB/s \n",
            "\u001b[?25hCollecting shortuuid>=0.5.0\n",
            "  Downloading https://files.pythonhosted.org/packages/25/a6/2ecc1daa6a304e7f1b216f0896b26156b78e7c38e1211e9b798b4716c53d/shortuuid-1.0.1-py3-none-any.whl\n",
            "Collecting subprocess32>=3.5.3\n",
            "\u001b[?25l  Downloading https://files.pythonhosted.org/packages/32/c8/564be4d12629b912ea431f1a50eb8b3b9d00f1a0b1ceff17f266be190007/subprocess32-3.5.4.tar.gz (97kB)\n",
            "\u001b[K     |████████████████████████████████| 102kB 11.8MB/s \n",
            "\u001b[?25hCollecting docker-pycreds>=0.4.0\n",
            "  Downloading https://files.pythonhosted.org/packages/f5/e8/f6bd1eee09314e7e6dee49cbe2c5e22314ccdb38db16c9fc72d2fa80d054/docker_pycreds-0.4.0-py2.py3-none-any.whl\n",
            "Requirement already satisfied, skipping upgrade: nvidia-ml-py3>=7.352.0 in /usr/local/lib/python3.6/dist-packages (from wandb) (7.352.0)\n",
            "Requirement already satisfied, skipping upgrade: urllib3>=1.10.0 in /usr/local/lib/python3.6/dist-packages (from sentry-sdk>=0.4.0->wandb) (1.24.3)\n",
            "Requirement already satisfied, skipping upgrade: certifi in /usr/local/lib/python3.6/dist-packages (from sentry-sdk>=0.4.0->wandb) (2019.11.28)\n",
            "Collecting pathtools>=0.1.1\n",
            "  Downloading https://files.pythonhosted.org/packages/e7/7f/470d6fcdf23f9f3518f6b0b76be9df16dcc8630ad409947f8be2eb0ed13a/pathtools-0.1.2.tar.gz\n",
            "Collecting graphql-core<2,>=0.5.0\n",
            "\u001b[?25l  Downloading https://files.pythonhosted.org/packages/b0/89/00ad5e07524d8c523b14d70c685e0299a8b0de6d0727e368c41b89b7ed0b/graphql-core-1.1.tar.gz (70kB)\n",
            "\u001b[K     |████████████████████████████████| 71kB 9.2MB/s \n",
            "\u001b[?25hRequirement already satisfied, skipping upgrade: promise<3,>=2.0 in /usr/local/lib/python3.6/dist-packages (from gql==0.2.0->wandb) (2.3)\n",
            "Requirement already satisfied, skipping upgrade: idna<2.9,>=2.5 in /usr/local/lib/python3.6/dist-packages (from requests>=2.0.0->wandb) (2.8)\n",
            "Requirement already satisfied, skipping upgrade: chardet<3.1.0,>=3.0.2 in /usr/local/lib/python3.6/dist-packages (from requests>=2.0.0->wandb) (3.0.4)\n",
            "Collecting gitdb<5,>=4.0.1\n",
            "\u001b[?25l  Downloading https://files.pythonhosted.org/packages/1e/f5/8f84b3bf9d94bdf2454a302f2fa375832b53660ea532586b8a55ff16ae9a/gitdb-4.0.2-py3-none-any.whl (63kB)\n",
            "\u001b[K     |████████████████████████████████| 71kB 9.7MB/s \n",
            "\u001b[?25hCollecting smmap<4,>=3.0.1\n",
            "  Downloading https://files.pythonhosted.org/packages/35/d2/27777ab463cd44842c78305fa8097dfba0d94768abbb7e1c4d88f1fa1a0b/smmap-3.0.1-py2.py3-none-any.whl\n",
            "Building wheels for collected packages: watchdog, gql, subprocess32, pathtools, graphql-core\n",
            "  Building wheel for watchdog (setup.py) ... \u001b[?25l\u001b[?25hdone\n",
            "  Created wheel for watchdog: filename=watchdog-0.10.2-cp36-none-any.whl size=73605 sha256=cb1a1542baad5e187ecce7500589d106a456a3b1a19e85c798cb65058f857b21\n",
            "  Stored in directory: /root/.cache/pip/wheels/bc/ed/6c/028dea90d31b359cd2a7c8b0da4db80e41d24a59614154072e\n",
            "  Building wheel for gql (setup.py) ... \u001b[?25l\u001b[?25hdone\n",
            "  Created wheel for gql: filename=gql-0.2.0-cp36-none-any.whl size=7630 sha256=f22ffb18382f271e46c3c612caa6a1287542d71a3142922142dff600811aebea\n",
            "  Stored in directory: /root/.cache/pip/wheels/ce/0e/7b/58a8a5268655b3ad74feef5aa97946f0addafb3cbb6bd2da23\n",
            "  Building wheel for subprocess32 (setup.py) ... \u001b[?25l\u001b[?25hdone\n",
            "  Created wheel for subprocess32: filename=subprocess32-3.5.4-cp36-none-any.whl size=6489 sha256=1dd31cce60414f8223a93dc2ec14bba1b141d9c8c3fbf56725914a0896405f81\n",
            "  Stored in directory: /root/.cache/pip/wheels/68/39/1a/5e402bdfdf004af1786c8b853fd92f8c4a04f22aad179654d1\n",
            "  Building wheel for pathtools (setup.py) ... \u001b[?25l\u001b[?25hdone\n",
            "  Created wheel for pathtools: filename=pathtools-0.1.2-cp36-none-any.whl size=8784 sha256=adb8bf2cabe10d3909374e2d50bbd3edb706e2426f3bd14295384cf3c1b58ad6\n",
            "  Stored in directory: /root/.cache/pip/wheels/0b/04/79/c3b0c3a0266a3cb4376da31e5bfe8bba0c489246968a68e843\n",
            "  Building wheel for graphql-core (setup.py) ... \u001b[?25l\u001b[?25hdone\n",
            "  Created wheel for graphql-core: filename=graphql_core-1.1-cp36-none-any.whl size=104650 sha256=9daa490711650c695a2835da3c6cc8d69a27667f798d70bdfce818764691bb8f\n",
            "  Stored in directory: /root/.cache/pip/wheels/45/99/d7/c424029bb0fe910c63b68dbf2aa20d3283d023042521bcd7d5\n",
            "Successfully built watchdog gql subprocess32 pathtools graphql-core\n",
            "Installing collected packages: configparser, sentry-sdk, pathtools, watchdog, graphql-core, gql, smmap, gitdb, GitPython, shortuuid, subprocess32, docker-pycreds, wandb\n",
            "Successfully installed GitPython-3.1.0 configparser-4.0.2 docker-pycreds-0.4.0 gitdb-4.0.2 gql-0.2.0 graphql-core-1.1 pathtools-0.1.2 sentry-sdk-0.14.3 shortuuid-1.0.1 smmap-3.0.1 subprocess32-3.5.4 wandb-0.8.30 watchdog-0.10.2\n",
            "\u001b[34m\u001b[1mwandb\u001b[0m: Appending key for api.wandb.ai to your netrc file: /root/.netrc\n",
            "\u001b[32mSuccessfully logged in to Weights & Biases!\u001b[0m\n"
          ],
          "name": "stdout"
        },
        {
          "output_type": "stream",
          "text": [
            "Using TensorFlow backend.\n"
          ],
          "name": "stderr"
        },
        {
          "output_type": "display_data",
          "data": {
            "text/html": [
              "<p style=\"color: red;\">\n",
              "The default version of TensorFlow in Colab will switch to TensorFlow 2.x on the 27th of March, 2020.<br>\n",
              "We recommend you <a href=\"https://www.tensorflow.org/guide/migrate\" target=\"_blank\">upgrade</a> now\n",
              "or ensure your notebook will continue to use TensorFlow 1.x via the <code>%tensorflow_version 1.x</code> magic:\n",
              "<a href=\"https://colab.research.google.com/notebooks/tensorflow_version.ipynb\" target=\"_blank\">more info</a>.</p>\n"
            ],
            "text/plain": [
              "<IPython.core.display.HTML object>"
            ]
          },
          "metadata": {
            "tags": []
          }
        }
      ]
    },
    {
      "cell_type": "code",
      "metadata": {
        "id": "CfEZOWeheoUs",
        "colab_type": "code",
        "colab": {}
      },
      "source": [
        "def draw_digit(digit, label=None):\n",
        "  # Make those columns into a array of 8-bits pixels\n",
        "  # This array will be of 1D with length 784\n",
        "  # The pixel intensity values are integers from 0 to 255\n",
        "  pixels = np.array(digit * 255, dtype='uint8')\n",
        "\n",
        "  # Reshape the array into 28 x 28 array (2-dimensional array)\n",
        "  pixels = pixels.reshape((28, 28))\n",
        "\n",
        "  # Plot\n",
        "  if label is not None:\n",
        "    plt.title('Label is {label}'.format(label=label))\n",
        "  plt.imshow(pixels, cmap='gray')\n",
        "  plt.show()\n",
        "  "
      ],
      "execution_count": 0,
      "outputs": []
    },
    {
      "cell_type": "code",
      "metadata": {
        "id": "ULqmdEvBerbQ",
        "colab_type": "code",
        "colab": {}
      },
      "source": [
        "def ascii_draw_digit(digit):\n",
        "  str = \"\"\n",
        "  for i in range(digit.shape[0]):\n",
        "      for j in range(digit.shape[1]):\n",
        "          if digit[i][j] == 0:\n",
        "              str += \" \"\n",
        "          elif digit[i][j] < 128:\n",
        "              str += \".\"\n",
        "          else:\n",
        "              str += \"X\"\n",
        "      str += \"\\n\"\n",
        "\n",
        "  print(str)"
      ],
      "execution_count": 0,
      "outputs": []
    },
    {
      "cell_type": "code",
      "metadata": {
        "id": "MuiAhxzne5no",
        "colab_type": "code",
        "outputId": "ff8be3ae-0af2-493d-a44e-4f14ce3a2ccc",
        "colab": {
          "base_uri": "https://localhost:8080/",
          "height": 204
        }
      },
      "source": [
        "# current_time = utc_timezone.localize(datetime.now()).astimezone(pacific_timezone).strftime(\"%H:%M:%S\")\n",
        "# run = wandb.init(project=\"fashion-mnist\", group=\"Ryan\", name=\"Ryan - \"+current_time)\n",
        "\n",
        "# logging code\n",
        "config = run.config\n",
        "\n",
        "# load data\n",
        "(X_train, y_train), (X_test, y_test) = fashion_mnist.load_data()\n",
        "\n",
        "# normalize data\n",
        "X_train = X_train.astype('float32')\n",
        "X_train /= 255.\n",
        "X_test = X_test.astype('float32')\n",
        "X_test /= 255.\n",
        "\n",
        "# get image shapes\n",
        "img_width = X_train.shape[1]\n",
        "img_height = X_train.shape[2]\n",
        "\n",
        "# reshape data\n",
        "X_train  = X_train.reshape(X_train.shape[0], img_width, img_height, 1)\n",
        "X_test  = X_test.reshape(X_test.shape[0], img_width, img_height, 1)\n",
        "\n",
        "\n",
        "# one hot encode outputs\n",
        "y_train = np_utils.to_categorical(y_train)\n",
        "y_test = np_utils.to_categorical(y_test)\n",
        "\n",
        "num_classes = y_train.shape[1]\n"
      ],
      "execution_count": 0,
      "outputs": [
        {
          "output_type": "display_data",
          "data": {
            "text/html": [
              "\n",
              "                Logging results to <a href=\"https://wandb.com\" target=\"_blank\">Weights & Biases</a> <a href=\"https://docs.wandb.com/integrations/jupyter.html\" target=\"_blank\">(Documentation)</a>.<br/>\n",
              "                Project page: <a href=\"https://app.wandb.ai/nauqgnesh/fashion-mnist\" target=\"_blank\">https://app.wandb.ai/nauqgnesh/fashion-mnist</a><br/>\n",
              "                Run page: <a href=\"https://app.wandb.ai/nauqgnesh/fashion-mnist/runs/19nk2tpr\" target=\"_blank\">https://app.wandb.ai/nauqgnesh/fashion-mnist/runs/19nk2tpr</a><br/>\n",
              "            "
            ],
            "text/plain": [
              "<IPython.core.display.HTML object>"
            ]
          },
          "metadata": {
            "tags": []
          }
        },
        {
          "output_type": "stream",
          "text": [
            "Downloading data from http://fashion-mnist.s3-website.eu-central-1.amazonaws.com/train-labels-idx1-ubyte.gz\n",
            "32768/29515 [=================================] - 0s 3us/step\n",
            "Downloading data from http://fashion-mnist.s3-website.eu-central-1.amazonaws.com/train-images-idx3-ubyte.gz\n",
            "26427392/26421880 [==============================] - 2s 0us/step\n",
            "Downloading data from http://fashion-mnist.s3-website.eu-central-1.amazonaws.com/t10k-labels-idx1-ubyte.gz\n",
            "8192/5148 [===============================================] - 0s 0us/step\n",
            "Downloading data from http://fashion-mnist.s3-website.eu-central-1.amazonaws.com/t10k-images-idx3-ubyte.gz\n",
            "4423680/4422102 [==============================] - 1s 0us/step\n"
          ],
          "name": "stdout"
        }
      ]
    },
    {
      "cell_type": "code",
      "metadata": {
        "id": "G9Ju_L8Oe_G3",
        "colab_type": "code",
        "colab": {}
      },
      "source": [
        "def create_model():\n",
        "  # create model\n",
        "  model=Sequential()\n",
        "  model.add(Conv2D(32,\n",
        "                  (4, 4),\n",
        "            input_shape=(img_width, img_height, 1),\n",
        "            activation='relu'))\n",
        "  model.add(MaxPooling2D(pool_size=(2, 2)))\n",
        "  model.add(Dropout(rate=0.4))\n",
        "  model.add(Conv2D(32,\n",
        "                  (4, 4),\n",
        "            input_shape=(img_width, img_height, 1),\n",
        "            activation='relu'))\n",
        "  model.add(MaxPooling2D(pool_size=(2, 2)))\n",
        "  model.add(Dropout(rate=0.4))\n",
        "  model.add(Flatten(input_shape=(img_width,img_height)))\n",
        "  model.add(Dense(2 * num_classes, activation='relu'))\n",
        "  model.add(Dense(num_classes, activation='softmax'))\n",
        "  model.compile(loss='categorical_crossentropy', optimizer='adam',\n",
        "                  metrics=['accuracy'])\n",
        " \n",
        "  # # Log metrics with wandb\n",
        "  # model.fit(X_train, y_train, validation_data=(X_test, y_test), epochs=10, callbacks=[WandbCallback()]) \n",
        " \n",
        "  # # Save model to wandb\n",
        "  # model.save(os.path.join(wandb.run.dir, \"model.h5\"))\n",
        " \n",
        "  return model"
      ],
      "execution_count": 0,
      "outputs": []
    },
    {
      "cell_type": "code",
      "metadata": {
        "id": "UXbCXt5pfTAe",
        "colab_type": "code",
        "outputId": "e8b0b559-a685-476b-e03f-a54df0df6bdc",
        "colab": {
          "base_uri": "https://localhost:8080/",
          "height": 1000
        }
      },
      "source": [
        "model = create_model()\n",
        "model.summary()\n",
        "model.fit(X_train, y_train, validation_data=(X_test, y_test), epochs=10, callbacks=[WandbCallback()])"
      ],
      "execution_count": 0,
      "outputs": [
        {
          "output_type": "stream",
          "text": [
            "WARNING:tensorflow:From /usr/local/lib/python3.6/dist-packages/keras/backend/tensorflow_backend.py:66: The name tf.get_default_graph is deprecated. Please use tf.compat.v1.get_default_graph instead.\n",
            "\n",
            "WARNING:tensorflow:From /usr/local/lib/python3.6/dist-packages/keras/backend/tensorflow_backend.py:541: The name tf.placeholder is deprecated. Please use tf.compat.v1.placeholder instead.\n",
            "\n",
            "WARNING:tensorflow:From /usr/local/lib/python3.6/dist-packages/keras/backend/tensorflow_backend.py:4432: The name tf.random_uniform is deprecated. Please use tf.random.uniform instead.\n",
            "\n",
            "WARNING:tensorflow:From /usr/local/lib/python3.6/dist-packages/keras/backend/tensorflow_backend.py:4267: The name tf.nn.max_pool is deprecated. Please use tf.nn.max_pool2d instead.\n",
            "\n",
            "WARNING:tensorflow:From /usr/local/lib/python3.6/dist-packages/keras/backend/tensorflow_backend.py:148: The name tf.placeholder_with_default is deprecated. Please use tf.compat.v1.placeholder_with_default instead.\n",
            "\n",
            "WARNING:tensorflow:From /usr/local/lib/python3.6/dist-packages/keras/backend/tensorflow_backend.py:3733: calling dropout (from tensorflow.python.ops.nn_ops) with keep_prob is deprecated and will be removed in a future version.\n",
            "Instructions for updating:\n",
            "Please use `rate` instead of `keep_prob`. Rate should be set to `rate = 1 - keep_prob`.\n",
            "WARNING:tensorflow:From /usr/local/lib/python3.6/dist-packages/keras/optimizers.py:793: The name tf.train.Optimizer is deprecated. Please use tf.compat.v1.train.Optimizer instead.\n",
            "\n",
            "WARNING:tensorflow:From /usr/local/lib/python3.6/dist-packages/keras/backend/tensorflow_backend.py:3576: The name tf.log is deprecated. Please use tf.math.log instead.\n",
            "\n",
            "WARNING:tensorflow:From /tensorflow-1.15.0/python3.6/tensorflow_core/python/ops/math_grad.py:1424: where (from tensorflow.python.ops.array_ops) is deprecated and will be removed in a future version.\n",
            "Instructions for updating:\n",
            "Use tf.where in 2.0, which has the same broadcast rule as np.where\n",
            "WARNING:tensorflow:From /usr/local/lib/python3.6/dist-packages/keras/backend/tensorflow_backend.py:1033: The name tf.assign_add is deprecated. Please use tf.compat.v1.assign_add instead.\n",
            "\n",
            "WARNING:tensorflow:From /usr/local/lib/python3.6/dist-packages/keras/backend/tensorflow_backend.py:1020: The name tf.assign is deprecated. Please use tf.compat.v1.assign instead.\n",
            "\n",
            "WARNING:tensorflow:From /usr/local/lib/python3.6/dist-packages/keras/backend/tensorflow_backend.py:3005: The name tf.Session is deprecated. Please use tf.compat.v1.Session instead.\n",
            "\n",
            "Train on 60000 samples, validate on 10000 samples\n",
            "Epoch 1/10\n",
            "WARNING:tensorflow:From /usr/local/lib/python3.6/dist-packages/keras/backend/tensorflow_backend.py:190: The name tf.get_default_session is deprecated. Please use tf.compat.v1.get_default_session instead.\n",
            "\n",
            "WARNING:tensorflow:From /usr/local/lib/python3.6/dist-packages/keras/backend/tensorflow_backend.py:197: The name tf.ConfigProto is deprecated. Please use tf.compat.v1.ConfigProto instead.\n",
            "\n",
            "WARNING:tensorflow:From /usr/local/lib/python3.6/dist-packages/keras/backend/tensorflow_backend.py:207: The name tf.global_variables is deprecated. Please use tf.compat.v1.global_variables instead.\n",
            "\n",
            "WARNING:tensorflow:From /usr/local/lib/python3.6/dist-packages/keras/backend/tensorflow_backend.py:216: The name tf.is_variable_initialized is deprecated. Please use tf.compat.v1.is_variable_initialized instead.\n",
            "\n",
            "WARNING:tensorflow:From /usr/local/lib/python3.6/dist-packages/keras/backend/tensorflow_backend.py:223: The name tf.variables_initializer is deprecated. Please use tf.compat.v1.variables_initializer instead.\n",
            "\n",
            "60000/60000 [==============================] - 59s 987us/step - loss: 0.6901 - acc: 0.7419 - val_loss: 0.4874 - val_acc: 0.8293\n",
            "Epoch 2/10\n",
            "60000/60000 [==============================] - 58s 960us/step - loss: 0.4843 - acc: 0.8231 - val_loss: 0.4142 - val_acc: 0.8511\n",
            "Epoch 3/10\n",
            "60000/60000 [==============================] - 57s 952us/step - loss: 0.4312 - acc: 0.8421 - val_loss: 0.3799 - val_acc: 0.8612\n",
            "Epoch 4/10\n",
            "60000/60000 [==============================] - 57s 945us/step - loss: 0.4037 - acc: 0.8511 - val_loss: 0.3593 - val_acc: 0.8680\n",
            "Epoch 5/10\n",
            "60000/60000 [==============================] - 56s 931us/step - loss: 0.3843 - acc: 0.8572 - val_loss: 0.3369 - val_acc: 0.8778\n",
            "Epoch 6/10\n",
            "60000/60000 [==============================] - 57s 943us/step - loss: 0.3719 - acc: 0.8632 - val_loss: 0.3530 - val_acc: 0.8711\n",
            "Epoch 7/10\n",
            "60000/60000 [==============================] - 57s 942us/step - loss: 0.3657 - acc: 0.8633 - val_loss: 0.3270 - val_acc: 0.8823\n",
            "Epoch 8/10\n",
            "60000/60000 [==============================] - 56s 933us/step - loss: 0.3573 - acc: 0.8673 - val_loss: 0.3145 - val_acc: 0.8839\n",
            "Epoch 9/10\n",
            "60000/60000 [==============================] - 58s 967us/step - loss: 0.3498 - acc: 0.8692 - val_loss: 0.3297 - val_acc: 0.8803\n",
            "Epoch 10/10\n",
            "60000/60000 [==============================] - 57s 956us/step - loss: 0.3452 - acc: 0.8717 - val_loss: 0.3163 - val_acc: 0.8836\n",
            "Model: \"sequential_1\"\n",
            "_________________________________________________________________\n",
            "Layer (type)                 Output Shape              Param #   \n",
            "=================================================================\n",
            "conv2d_1 (Conv2D)            (None, 25, 25, 32)        544       \n",
            "_________________________________________________________________\n",
            "max_pooling2d_1 (MaxPooling2 (None, 12, 12, 32)        0         \n",
            "_________________________________________________________________\n",
            "dropout_1 (Dropout)          (None, 12, 12, 32)        0         \n",
            "_________________________________________________________________\n",
            "conv2d_2 (Conv2D)            (None, 9, 9, 32)          16416     \n",
            "_________________________________________________________________\n",
            "max_pooling2d_2 (MaxPooling2 (None, 4, 4, 32)          0         \n",
            "_________________________________________________________________\n",
            "dropout_2 (Dropout)          (None, 4, 4, 32)          0         \n",
            "_________________________________________________________________\n",
            "flatten_1 (Flatten)          (None, 512)               0         \n",
            "_________________________________________________________________\n",
            "dense_1 (Dense)              (None, 20)                10260     \n",
            "_________________________________________________________________\n",
            "dense_2 (Dense)              (None, 10)                210       \n",
            "=================================================================\n",
            "Total params: 27,430\n",
            "Trainable params: 27,430\n",
            "Non-trainable params: 0\n",
            "_________________________________________________________________\n",
            "Train on 60000 samples, validate on 10000 samples\n",
            "Epoch 1/10\n",
            "60000/60000 [==============================] - 56s 932us/step - loss: 0.3398 - acc: 0.8739 - val_loss: 0.3149 - val_acc: 0.8851\n",
            "Epoch 2/10\n",
            "60000/60000 [==============================] - 56s 929us/step - loss: 0.3352 - acc: 0.8746 - val_loss: 0.3076 - val_acc: 0.8861\n",
            "Epoch 3/10\n",
            "60000/60000 [==============================] - 55s 923us/step - loss: 0.3297 - acc: 0.8772 - val_loss: 0.3141 - val_acc: 0.8854\n",
            "Epoch 4/10\n",
            "60000/60000 [==============================] - 57s 948us/step - loss: 0.3248 - acc: 0.8795 - val_loss: 0.3173 - val_acc: 0.8825\n",
            "Epoch 5/10\n",
            "60000/60000 [==============================] - 56s 930us/step - loss: 0.3245 - acc: 0.8784 - val_loss: 0.3085 - val_acc: 0.8830\n",
            "Epoch 6/10\n",
            "60000/60000 [==============================] - 55s 914us/step - loss: 0.3199 - acc: 0.8806 - val_loss: 0.2963 - val_acc: 0.8918\n",
            "Epoch 7/10\n",
            "60000/60000 [==============================] - 55s 921us/step - loss: 0.3196 - acc: 0.8798 - val_loss: 0.3038 - val_acc: 0.8868\n",
            "Epoch 8/10\n",
            "60000/60000 [==============================] - 56s 937us/step - loss: 0.3156 - acc: 0.8821 - val_loss: 0.2985 - val_acc: 0.8905\n",
            "Epoch 9/10\n",
            "60000/60000 [==============================] - 55s 922us/step - loss: 0.3123 - acc: 0.8828 - val_loss: 0.3031 - val_acc: 0.8869\n",
            "Epoch 10/10\n",
            "60000/60000 [==============================] - 55s 912us/step - loss: 0.3138 - acc: 0.8820 - val_loss: 0.2998 - val_acc: 0.8890\n"
          ],
          "name": "stdout"
        },
        {
          "output_type": "execute_result",
          "data": {
            "text/plain": [
              "<keras.callbacks.History at 0x7f809212c080>"
            ]
          },
          "metadata": {
            "tags": []
          },
          "execution_count": 7
        }
      ]
    },
    {
      "cell_type": "code",
      "metadata": {
        "id": "I7uA-v3LfXMD",
        "colab_type": "code",
        "outputId": "a7b4e6e9-77e2-40b1-d3cb-6fbaa51015e1",
        "colab": {
          "base_uri": "https://localhost:8080/",
          "height": 485
        }
      },
      "source": [
        "predictions = model.predict(X_test)\n",
        "corrects = []\n",
        "incorrects = []\n",
        "for i in range(len(predictions)):\n",
        "  if np.argmax(predictions[i]) == np.argmax(y_test[i]):\n",
        "    corrects.append(i)\n",
        "  else:\n",
        "    incorrects.append(i)\n",
        "  \n",
        "print(f\"Percentage Correct: {int(len(corrects) / (len(corrects)+len(incorrects)) * 100000) / 1000.0}%\" )\n",
        "\n",
        "index = 420\n",
        "digit = X_test[incorrects[index]]\n",
        "prediction = model.predict([[digit]])\n",
        "actual = np.array(y_test[incorrects[index]])\n",
        "categories = [\"T-shirt/top\", \"Trouser\", \"Pullover\", \"Dress\", \"Coat\", \"Sandal\", \"Shirt\", \"Sneaker\", \"Bag\", \"Ankle boot\"]\n",
        "prediction_category = categories[np.argmax(prediction)]\n",
        "draw_digit(digit, prediction_category)\n",
        "print('\\n'.join([f'{categories[i]}: {int(prediction[0][i] * 100000) / 1000.0}%' for i in range(len(prediction[0]))]))\n",
        "print(f\"We know it is a : {categories[np.argmax(actual)]}\")"
      ],
      "execution_count": 0,
      "outputs": [
        {
          "output_type": "stream",
          "text": [
            "Percentage Correct: 88.9%\n"
          ],
          "name": "stdout"
        },
        {
          "output_type": "display_data",
          "data": {
            "image/png": "[encoded data removed]",
            "text/plain": [
              "<Figure size 432x288 with 1 Axes>"
            ]
          },
          "metadata": {
            "tags": []
          }
        },
        {
          "output_type": "stream",
          "text": [
            "T-shirt/top: 51.379%\n",
            "Trouser: 0.0%\n",
            "Pullover: 36.112%\n",
            "Dress: 1.484%\n",
            "Coat: 0.071%\n",
            "Sandal: 0.0%\n",
            "Shirt: 10.942%\n",
            "Sneaker: 0.0%\n",
            "Bag: 0.008%\n",
            "Ankle boot: 0.0%\n",
            "We know it is a : Pullover\n"
          ],
          "name": "stdout"
        }
      ]
    },
    {
      "cell_type": "code",
      "metadata": {
        "id": "Jw36wo7rfYav",
        "colab_type": "code",
        "outputId": "4e6f4ae7-fbcf-4a29-a7c4-5494fd51d245",
        "colab": {
          "base_uri": "https://localhost:8080/",
          "height": 279
        }
      },
      "source": [
        "#Confusion Matrix \n",
        "\n",
        "predictions = model.predict([X_test])\n",
        "mod_preds = []\n",
        "mod_actual = []\n",
        "for i in range(len(predictions)):\n",
        "  new_pred = np.argmax(predictions[i])\n",
        "  new_act = np.argmax(y_test[i])\n",
        "  mod_preds.append(new_pred)\n",
        "  mod_actual.append(new_act)\n",
        "\n",
        "# print (mod_preds)\n",
        "# print(mod_actual)\n",
        "cm = confusion_matrix(mod_actual, mod_preds)\n",
        "fig, ax = plot_confusion_matrix(conf_mat = cm)\n",
        "plt.show()"
      ],
      "execution_count": 0,
      "outputs": [
        {
          "output_type": "display_data",
          "data": {
            "image/png": "[encoded data removed]",
            "text/plain": [
              "<Figure size 432x288 with 1 Axes>"
            ]
          },
          "metadata": {
            "tags": []
          }
        }
      ]
    }
  ]
}